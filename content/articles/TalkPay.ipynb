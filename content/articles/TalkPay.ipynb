{
 "cells": [
  {
   "cell_type": "markdown",
   "metadata": {},
   "source": [
    "#TALKPAY"
   ]
  },
  {
   "cell_type": "code",
   "execution_count": 137,
   "metadata": {
    "collapsed": true
   },
   "outputs": [],
   "source": [
    "import tweepy\n",
    "import json\n",
    "import re\n",
    "import matplotlib.pyplot as plt\n",
    "import seaborn as sns\n",
    "import numpy as np\n",
    "import pandas as pd\n",
    "sns.set(style='ticks', palette='Set2')\n",
    "%matplotlib inline\n",
    " \n",
    "# Consumer keys and access tokens, used for OAuth - insert your keys\n",
    "consumer_key = ''\n",
    "consumer_secret = ''\n",
    "access_token = ''\n",
    "access_token_secret = ''\n",
    " \n",
    "# OAuth process, using the keys and tokens\n",
    "auth = tweepy.OAuthHandler(consumer_key, consumer_secret)\n",
    "auth.set_access_token(access_token, access_token_secret)\n",
    " \n",
    "# Creation of the actual interface, using authentication\n",
    "api = tweepy.API(auth)"
   ]
  },
  {
   "cell_type": "code",
   "execution_count": null,
   "metadata": {
    "collapsed": true
   },
   "outputs": [],
   "source": [
    "c = tweepy.Cursor(api.search, q='talkpay')\n",
    "c_iter = c.items()\n",
    "all_text = []\n",
    "for tweet in c_iter:\n",
    "    all_text.append(tweet.text)"
   ]
  },
  {
   "cell_type": "markdown",
   "metadata": {},
   "source": [
    "I do probably the most naive approach to extracting the data I want. I just pull out the digits that fall in between \\$ and k. For example, $125k returns 125. This obviously doesn't get all the data and even gets some data we might not care about. For example, some people put multiple salaries over time, for which we maybe only want the most recent. For the sake of quickness and getting more data, I include everything my naive approach finds."
   ]
  },
  {
   "cell_type": "code",
   "execution_count": 152,
   "metadata": {
    "collapsed": false
   },
   "outputs": [],
   "source": [
    "thous_dollars_raw = [re.findall(r'\\$(\\d*)[k|K]', t, re.DOTALL | re.MULTILINE) for t in all_text]\n",
    "thous_dollars = []\n",
    "for dollar in thous_dollars_raw:\n",
    "    if len(dollar) > 0:\n",
    "        for d in dollar:\n",
    "            thous_dollars.append(int(d))\n",
    "thous_dollars = np.array(thous_dollars)"
   ]
  },
  {
   "cell_type": "code",
   "execution_count": 154,
   "metadata": {
    "collapsed": false
   },
   "outputs": [
    {
     "data": {
      "image/png": "[encoded data removed]",
      "text/plain": [
       "<matplotlib.figure.Figure at 0x10a8a4610>"
      ]
     },
     "metadata": {},
     "output_type": "display_data"
    }
   ],
   "source": [
    "plt.figure(figsize=(10,5))\n",
    "plt.hist(thous_dollars, bins=50)\n",
    "plt.xlabel(\"Thousands of Dollars\")\n",
    "plt.ylabel(\"Number of People\")\n",
    "plt.title(\"#talkpay tweets\")\n",
    "sns.despine()"
   ]
  },
  {
   "cell_type": "code",
   "execution_count": 142,
   "metadata": {
    "collapsed": false
   },
   "outputs": [
    {
     "data": {
      "text/plain": [
       "count    315.000000\n",
       "mean      96.530159\n",
       "std       69.642089\n",
       "min        2.000000\n",
       "25%       42.000000\n",
       "50%       84.000000\n",
       "75%      135.000000\n",
       "max      500.000000\n",
       "dtype: float64"
      ]
     },
     "execution_count": 142,
     "metadata": {},
     "output_type": "execute_result"
    }
   ],
   "source": [
    "pd_series = pd.Series(thous_dollars)\n",
    "pd_series.describe()"
   ]
  },
  {
   "cell_type": "markdown",
   "metadata": {},
   "source": [
    "It looks like we got 315 salaries from our approach - not too bad. Also, the median salary comes out to be \\$84k with the mean being pulled up to \\$96.5k from the few large outliers we have. Virtually all of our data falls below \\$200k and 75 percent of it below \\$135k. \n",
    "\n",
    "So - it is kind of interesting to look at this data. I would be very hesitant to really infer much given the nature of the data and my naive way of extracting it. But still a fun, quick side project :)"
   ]
  }
 ],
 "metadata": {
  "kernelspec": {
   "display_name": "Python 2",
   "language": "python",
   "name": "python2"
  },
  "language_info": {
   "codemirror_mode": {
    "name": "ipython",
    "version": 2
   },
   "file_extension": ".py",
   "mimetype": "text/x-python",
   "name": "python",
   "nbconvert_exporter": "python",
   "pygments_lexer": "ipython2",
   "version": "2.7.9"
  }
 },
 "nbformat": 4,
 "nbformat_minor": 0
}
